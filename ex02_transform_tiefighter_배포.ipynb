{
  "nbformat": 4,
  "nbformat_minor": 0,
  "metadata": {
    "colab": {
      "provenance": [],
      "include_colab_link": true
    },
    "kernelspec": {
      "name": "python3",
      "display_name": "Python 3"
    },
    "language_info": {
      "name": "python"
    }
  },
  "cells": [
    {
      "cell_type": "markdown",
      "metadata": {
        "id": "view-in-github",
        "colab_type": "text"
      },
      "source": [
        "<a href=\"https://colab.research.google.com/github/ChocoChip0519/LA/blob/main/ex02_transform_tiefighter_%E1%84%87%E1%85%A2%E1%84%91%E1%85%A9.ipynb\" target=\"_parent\"><img src=\"https://colab.research.google.com/assets/colab-badge.svg\" alt=\"Open In Colab\"/></a>"
      ]
    },
    {
      "cell_type": "markdown",
      "source": [
        "### 라이브러리 선언"
      ],
      "metadata": {
        "id": "VcKvO8KcJ9AJ"
      }
    },
    {
      "cell_type": "code",
      "source": [
        "import numpy as np\n",
        "import matplotlib.pyplot as plt\n",
        "from matplotlib.patches import Polygon\n",
        "\n",
        "INF = 1000  # 그림판 크기\n",
        "LEN = 100   # 처음 사각형의 크기"
      ],
      "metadata": {
        "id": "uwkBDldBERem"
      },
      "execution_count": 1,
      "outputs": []
    },
    {
      "cell_type": "markdown",
      "source": [
        "### 축 그리기 및 사각형 그리기"
      ],
      "metadata": {
        "id": "eSiS-XHya1FY"
      }
    },
    {
      "cell_type": "code",
      "source": [
        "def draw_axis(ax):\n",
        "  ax.axhline(0, color='black', alpha=0.3)  # x-axis line\n",
        "  ax.axvline(0, color='black', alpha=0.3)  # y-axis line\n",
        "  ax.set_xlim(-INF, INF)\n",
        "  ax.set_ylim(-INF, INF)\n",
        "  ax.set_aspect('equal')  # 정사각형 모양으로 backboard 그리기"
      ],
      "metadata": {
        "id": "_fc5wJBeKXDN"
      },
      "execution_count": 2,
      "outputs": []
    },
    {
      "cell_type": "code",
      "source": [
        "def draw_rectangle(ax, p1, p2, p3, p4):\n",
        "  my_polygon = Polygon([p1, p2, p3, p4])\n",
        "  ax.add_patch(my_polygon)"
      ],
      "metadata": {
        "id": "0XC7sFs9Hf3e"
      },
      "execution_count": 3,
      "outputs": []
    },
    {
      "cell_type": "code",
      "source": [
        "def draw_cockpit(ax, p1, p2, p3, p4):  # 중앙 조종석\n",
        "  # 1. 사각형을 원점으로 이동 변환: T(-LEN/2, -LEN/2)\n",
        "  # q = T(-LEN/2, -LEN/2)p\n",
        "  q1 = translate(p1, -LEN/2, -LEN/2)\n",
        "  q2 = translate(p2, -LEN/2, -LEN/2)\n",
        "  q3 = translate(p3, -LEN/2, -LEN/2)\n",
        "  q4 = translate(p4, -LEN/2, -LEN/2)\n",
        "  \n",
        "  # 2. 크기 변환: S(5, 5)\n",
        "\n",
        "  # 3. 회전 변환: R(pi/4)\n",
        "\n",
        "  \n",
        "  # 4. polygon 그리기 \n",
        "  draw_rectangle(ax, q1, q2, q3, q4)"
      ],
      "metadata": {
        "id": "XpoErkiY3RbH"
      },
      "execution_count": 202,
      "outputs": []
    },
    {
      "cell_type": "code",
      "source": [
        "def draw_object(ax):\n",
        "  p1 = np.array([0, 0])\n",
        "  p2 = np.array([LEN, 0])\n",
        "  p3 = np.array([LEN, LEN])\n",
        "  p4 = np.array([0, LEN])\n",
        "\n",
        "  # 1. 중앙 조종석 그리기 \n",
        "  draw_cockpit(ax, p1, p2, p3, p4)\n",
        "\n",
        "  # # 2. 왼쪽 날개축 그리기 \n",
        "  # draw_left_arm(ax, p1, p2, p3, p4)\n",
        "\n",
        "  # #3.왼쪽 날개 그리기\n",
        "  # draw_left_wing(ax, p1, p2, p3, p4) #왼쪽 날개\n",
        "\n",
        "  # # 4. 오른쪽 날개축 그리기 \n",
        "  # draw_right_arm(ax, p1, p2, p3, p4)\n",
        "\n",
        "  # # 5. 오른쪽 날개 그리기 \n",
        "  # draw_right_wing(ax, p1, p2, p3, p4)"
      ],
      "metadata": {
        "id": "9_fAE1_kPjsv"
      },
      "execution_count": 205,
      "outputs": []
    },
    {
      "cell_type": "code",
      "source": [
        "#@title\n",
        "# 그림판 선언 및 크기 설정\n",
        "fig, ax = plt.subplots(figsize=(7,7))\n",
        "\n",
        "# 축 그리기\n",
        "draw_axis(ax)\n",
        "\n",
        "# 물체 그리기\n",
        "draw_object(ax)\n",
        "\n",
        "plt.show()"
      ],
      "metadata": {
        "colab": {
          "base_uri": "https://localhost:8080/",
          "height": 605
        },
        "id": "L3r3ar9FQDKI",
        "outputId": "436bc8e9-12f9-474f-bd50-08625a3a1bff"
      },
      "execution_count": 206,
      "outputs": [
        {
          "output_type": "display_data",
          "data": {
            "text/plain": [
              "<Figure size 700x700 with 1 Axes>"
            ],
            "image/png": "[encoded data removed]"
          },
          "metadata": {}
        }
      ]
    },
    {
      "cell_type": "markdown",
      "source": [
        "### 본론\n",
        "#### 1. 변환 구현\n",
        "* translate(p, dx, dy)\n",
        "* rotate(p, theta)  \n",
        "* scale(p, sx, sy)  \n",
        "* shear_x(p, sx)  \n",
        "* shear_y(p, sy)  \n",
        "* reflect_x(p)  \n",
        "* reflect_y(p)   \n",
        "* ..."
      ],
      "metadata": {
        "id": "6txnl6M2PeUz"
      }
    },
    {
      "cell_type": "code",
      "source": [
        "# 점 p를 x축 방향으로 dx만큼, y축 방향으로 dy만큼 이동시킨 점 q를 구할 것\n",
        "# q = T(dx, dy) p1\n",
        "def translate(p, dx, dy):\n",
        "  # 1. 동차좌표계 (homogeneous coordinate)으로 변환\n",
        "  hp = np.array([p[0], p[1], 1.0])\n",
        "\n",
        "  # 2. 이동 변환 행렬 생성\n",
        "  m = np.array([[1.0, 0.0, dx], [0.0, 1.0, dy], [0.0, 0.0, 1.0]])\n",
        "  \n",
        "  # 3. 행렬과 벡터의 곱\n",
        "  q = np.dot(m, hp)  # (3,3) x (3,1) -> (3,1)\n",
        "  #print(q)\n",
        "\n",
        "  # 4. 2차원 좌표계로 변환\n",
        "  q = np.array([q[0], q[1]])\n",
        "  return q\n",
        "\n"
      ],
      "metadata": {
        "id": "g1iKgeNoP-Bu"
      },
      "execution_count": 184,
      "outputs": []
    },
    {
      "cell_type": "code",
      "source": [
        "def rotate(p, theta):\n",
        "  # 1. 동차좌표계 (homogeneous coordinate)으로 변환\n",
        "  hp = np.array([p[0], p[1], 1.0])\n",
        "\n",
        "  # 2. 회전 변환 행렬 생성\n",
        "  m = np.array([[np.cos(theta), -np.sin(theta), 0.0], [np.sin(theta), np.cos(theta), 0.0], [0.0, 0.0, 1.0]])\n",
        "\n",
        "  # 3. 행렬과 벡터의 곱\n",
        "  q = np.dot(m, hp)\n",
        "\n",
        "  # 4. 2차원 좌표계로 변환\n",
        "  q = np.array([q[0], q[1]])\n",
        "\n",
        "  return q"
      ],
      "metadata": {
        "id": "0qWgc6fHBOTz"
      },
      "execution_count": 185,
      "outputs": []
    },
    {
      "cell_type": "code",
      "source": [
        "def scale(p, sx, sy):\n",
        "  # 1. 동차좌표계 (homogeneous coordinate)으로 변환\n",
        "  hp = np.array([p[0], p[1], 1.0])\n",
        "\n",
        "  # 2. 크기 변환 행렬 생성\n",
        "  m = ([[sx, 0.0, 0.0], [0.0, sy, 0.0], [0.0, 0.0, 1.0]])\n",
        "\n",
        "  # 3. 행렬과 벡터의 곱\n",
        "  q = np.dot(m, hp)\n",
        "\n",
        "  # 4. 2차원 좌표계로 변환\n",
        "  q = np.array([q[0], q[1]])\n",
        "\n",
        "  return q"
      ],
      "metadata": {
        "id": "0bObkN8LDFih"
      },
      "execution_count": 186,
      "outputs": []
    },
    {
      "cell_type": "code",
      "source": [
        "def shear_x(p, sx):\n",
        "  # 1. 동차좌표계 (homogeneous coordinate)으로 변환\n",
        "  hp = np.array([p[0], p[1], 1.0])\n",
        "  # 2. x축 기울기 변환 행렬 생성\n",
        "  m = ([[1.0, sx, 0.0], [0.0, 1.0, 0.0], [0.0, 0.0, 1.0]])\n",
        "\n",
        "  # 3. 행렬과 벡터의 곱\n",
        "  q = np.dot(m, hp)\n",
        "\n",
        "  # 4. 2차원 좌표계로 변환\n",
        "  q = np.array([q[0], q[1]])\n",
        "\n",
        "  return q"
      ],
      "metadata": {
        "id": "39hLz_sEEZ4a"
      },
      "execution_count": 187,
      "outputs": []
    },
    {
      "cell_type": "code",
      "source": [
        "def shear_y(p, sy):\n",
        "  # 1. 동차좌표계 (homogeneous coordinate)으로 변환\n",
        "  hp = np.array([p[0], p[1], 1.0])\n",
        "\n",
        "  # 2. y축 기울기 변환 행렬 생성\n",
        "  m = ([[1.0, 0.0, 0.0], [sy, 1.0, 0.0], [0.0, 0.0, 1.0]])\n",
        "\n",
        "  # 3. 행렬과 벡터의 곱\n",
        "  q = np.dot(m, hp)\n",
        "\n",
        "  # 4. 2차원 좌표계로 변환\n",
        "  q = np.array([q[0], q[1]])\n",
        "\n",
        "  return q"
      ],
      "metadata": {
        "id": "Atu_4-k5SJMt"
      },
      "execution_count": 188,
      "outputs": []
    },
    {
      "cell_type": "code",
      "source": [
        "def reflect_x(p):\n",
        "  # 1. 동차좌표계 (homogeneous coordinate)으로 변환\n",
        "  hp = np.array([p[0], p[1], 1.0])\n",
        "\n",
        "  # 2. x축 반전 변환 행렬 생성\n",
        "  m = ([[1.0, 0.0, 0.0], [0.0, -1.0, 0.0], [0.0, 0.0, 1.0]])\n",
        "\n",
        "  # 3. 행렬과 벡터의 곱\n",
        "  q = np.dot(m, hp)\n",
        "\n",
        "  # 4. 2차원 좌표계로 변환\n",
        "  q = np.array([q[0], q[1]])\n",
        "\n",
        "  return q\n"
      ],
      "metadata": {
        "id": "YZuAgHFBSMIt"
      },
      "execution_count": 189,
      "outputs": []
    },
    {
      "cell_type": "code",
      "source": [
        "def reflect_y(p):\n",
        "  # 1. 동차좌표계 (homogeneous coordinate)으로 변환\n",
        "  hp = np.array([p[0], p[1], 1.0])\n",
        "\n",
        "  # 2. y축 반전 변환 행렬 생성\n",
        "  m = ([[-1.0, 0.0, 0.0], [0.0, 1.0, 0.0], [0.0, 0.0, 1.0]])\n",
        "\n",
        "  # 3. 행렬과 벡터의 곱\n",
        "  q = np.dot(m, hp)\n",
        "\n",
        "  # 4. 2차원 좌표계로 변환\n",
        "  q = np.array([q[0], q[1]])\n",
        "\n",
        "  return q\n"
      ],
      "metadata": {
        "id": "N3jHL_MISoII"
      },
      "execution_count": 190,
      "outputs": []
    },
    {
      "cell_type": "markdown",
      "source": [],
      "metadata": {
        "id": "W8E0Xji9Sk78"
      }
    },
    {
      "cell_type": "markdown",
      "source": [
        "#### 2. 파트 그리기\n",
        "* draw_cockpit(p1, p2, p3, p4)    # 중앙 조종석\n",
        "* draw_left_arm(p1, p2, p3, p4)   # 왼쪽 날개축\n",
        "* draw_left_wing(p1, p2, p3, p4)  # 왼쪽 날개\n",
        "* draw_right_arm(p1, p2, p3, p4)  # 오른쪽 날개축\n",
        "* draw_right_wing(p1, p2, p3, p4) # 오른쪽 날개"
      ],
      "metadata": {
        "id": "E_jHSezpTC-9"
      }
    },
    {
      "cell_type": "code",
      "source": [
        "def draw_cockpit(ax, p1, p2, p3, p4):  # 중앙 조종석\n",
        "  # 1. 사각형을 원점으로 이동 변환: T(-LEN/2, -LEN/2)\n",
        "  # q = T(-LEN/2, -LEN/2)p\n",
        "  q1 = translate(p1, -LEN/2, -LEN/2)\n",
        "  q2 = translate(p2, -LEN/2, -LEN/2)\n",
        "  q3 = translate(p3, -LEN/2, -LEN/2)\n",
        "  q4 = translate(p4, -LEN/2, -LEN/2)\n",
        "  \n",
        "  # 2. 크기 변환: S(5, 5)\n",
        "  s = 5\n",
        "  q1 = scale(q1, s, s)\n",
        "  q2 = scale(q2, s, s)\n",
        "  q3 = scale(q3, s, s)\n",
        "  q4 = scale(q4, s, s)\n",
        "  \n",
        "  # 3. 회전 변환: R(pi/4)\n",
        "  q1 = rotate(q1, 3.14/4.0)\n",
        "  q2 = rotate(q2, 3.14/4.0)\n",
        "  q3 = rotate(q3, 3.14/4.0)\n",
        "  q4 = rotate(q4, 3.14/4.0)\n",
        "  \n",
        "  # 4. polygon 그리기 \n",
        "  draw_rectangle(ax, q1, q2, q3, q4)"
      ],
      "metadata": {
        "id": "6C7a4CH4HSj0"
      },
      "execution_count": 191,
      "outputs": []
    },
    {
      "cell_type": "code",
      "source": [
        "def draw_right_arm(ax, p1, p2, p3, p4):\n",
        "  # 1. 사각형 생성\n",
        "  q1 = translate(p1, 0, 110) #왼쪽 아래\n",
        "  q2 = translate(p2, 600, 110) #오른쪽 아래\n",
        "  q3 = translate(p3, 600, 120) #오른쪽 위\n",
        "  q4 = translate(p4, 0, 120) #왼쪽 위\n",
        "\n",
        "  # 2. y축 기울기 s: -0.25\n",
        "  s = -0.25\n",
        "  q1 = shear_y(q1, s)\n",
        "  q2 = shear_y(q2, s)\n",
        "  q3 = shear_y(q3, s)\n",
        "  q4 = shear_y(q4, s)\n",
        "\n",
        "  # polygon 그리기\n",
        "  draw_rectangle(ax, q1, q2, q3, q4)"
      ],
      "metadata": {
        "id": "rQECwUgaIW5E"
      },
      "execution_count": 192,
      "outputs": []
    },
    {
      "cell_type": "code",
      "source": [
        "def draw_right_arm2(ax, p1, p2, p3, p4):\n",
        "  # 1. 사각형 생성\n",
        "  q1 = translate(p1, 0, 110) #왼쪽 아래\n",
        "  q2 = translate(p2, 600, 110) #오른쪽 아래\n",
        "  q3 = translate(p3, 600, 120) #오른쪽 위\n",
        "  q4 = translate(p4, 0, 120) #왼쪽 위\n",
        "\n",
        "  # 2. y축 기울기 s: -0.25\n",
        "  s = -0.25\n",
        "  q1 = shear_y(q1, s)\n",
        "  q2 = shear_y(q2, s)\n",
        "  q3 = shear_y(q3, s)\n",
        "  q4 = shear_y(q4, s)\n",
        "\n",
        "  # 3. x축으로 반전 ( right_arm 과 똑같은 모양이기에 사각형, 기울기는 변형시키지않고 x축으로 반전시킨다. )\n",
        "  q1 = reflect_x(q1)\n",
        "  q2 = reflect_x(q2)\n",
        "  q3 = reflect_x(q3)\n",
        "  q4 = reflect_x(q4)\n",
        "\n",
        "  # polygon 그리기 \n",
        "  draw_rectangle(ax, q1, q2, q3, q4)"
      ],
      "metadata": {
        "id": "dS9ryJHqM74D"
      },
      "execution_count": 193,
      "outputs": []
    },
    {
      "cell_type": "code",
      "source": [
        "def draw_right_wing(ax, p1, p2, p3, p4):\n",
        "  # 1. 사각형 생성\n",
        "  q1 = translate(p1, 650, -400) #왼쪽 아래\n",
        "  q2 = translate(p2, 680, -600) #오른쪽 아래\n",
        "  q3 = translate(p3, 680, 600) #오른쪽 위\n",
        "  q4 = translate(p4, 650, 400) #왼쪽 위\n",
        "\n",
        "  # polygon 그리기 \n",
        "  draw_rectangle(ax, q1, q2, q3, q4)"
      ],
      "metadata": {
        "id": "Lqy5rsqJQuH6"
      },
      "execution_count": 194,
      "outputs": []
    },
    {
      "cell_type": "code",
      "source": [
        "def draw_left_arm(p1, p2, p3, p4):\n",
        "  # 1. 사각형 생성\n",
        "  q1 = translate(p1, 0, 110) #왼쪽 아래\n",
        "  q2 = translate(p2, 600, 110) #오른쪽 아래\n",
        "  q3 = translate(p3, 600, 120) #오른쪽 위\n",
        "  q4 = translate(p4, 0, 120) #왼쪽 위\n",
        "\n",
        "  # 2. y축 기울기 s: -0.25\n",
        "  s = -0.25\n",
        "  q1 = shear_y(q1, s)\n",
        "  q2 = shear_y(q2, s)\n",
        "  q3 = shear_y(q3, s)\n",
        "  q4 = shear_y(q4, s)\n",
        "\n",
        "  # 3. y축으로 반전 ( right_arm 과 똑같은 모양이기에 사각형, 기울기는 변형시키지않고 y축으로 반전시킨다. )\n",
        "  q1 = reflect_y(q1)\n",
        "  q2 = reflect_y(q2)\n",
        "  q3 = reflect_y(q3)\n",
        "  q4 = reflect_y(q4)\n",
        "\n",
        "  # polygon 그리기 \n",
        "  draw_rectangle(ax, q1, q2, q3, q4)"
      ],
      "metadata": {
        "id": "B4KOfsupwfBk"
      },
      "execution_count": 195,
      "outputs": []
    },
    {
      "cell_type": "code",
      "source": [
        "def draw_left_arm2(p1, p2, p3, p4):\n",
        "  # 1. 사각형 생성\n",
        "  q1 = translate(p1, 0, 110) #왼쪽 아래\n",
        "  q2 = translate(p2, 600, 110) #오른쪽 아래\n",
        "  q3 = translate(p3, 600, 120) #오른쪽 위\n",
        "  q4 = translate(p4, 0, 120) #왼쪽 위\n",
        "\n",
        "  # 2. y축 기울기 s: -0.25\n",
        "  s = -0.25\n",
        "  q1 = shear_y(q1, s)\n",
        "  q2 = shear_y(q2, s)\n",
        "  q3 = shear_y(q3, s)\n",
        "  q4 = shear_y(q4, s)\n",
        "\n",
        "  # 3. x축 및 y축으로 반전 ( right_arm 과 똑같은 모양이기에 사각형, 기울기는 변형시키지않고 x축 및 y축으로 반전시킨다. )\n",
        "  # 3.1. x축 반전\n",
        "  q1 = reflect_x(q1)\n",
        "  q2 = reflect_x(q2)\n",
        "  q3 = reflect_x(q3)\n",
        "  q4 = reflect_x(q4)\n",
        "  # 3.2. y축 반전\n",
        "  q1 = reflect_y(q1)\n",
        "  q2 = reflect_y(q2)\n",
        "  q3 = reflect_y(q3)\n",
        "  q4 = reflect_y(q4)\n",
        "\n",
        "  # polygon 그리기 \n",
        "  draw_rectangle(ax, q1, q2, q3, q4)"
      ],
      "metadata": {
        "id": "gR8Pmh5Fw5Ue"
      },
      "execution_count": 200,
      "outputs": []
    },
    {
      "cell_type": "code",
      "source": [
        "def draw_left_wing(p1, p2, p3, p4): # 오른쪽 날개\n",
        "  # 1. 사각형 생성\n",
        "  q1 = translate(p1, 650, -400) #왼쪽 아래\n",
        "  q2 = translate(p2, 680, -600) #오른쪽 아래\n",
        "  q3 = translate(p3, 680, 600) #오른쪽 위\n",
        "  q4 = translate(p4, 650, 400) #왼쪽 위\n",
        "\n",
        "  # 2. y축으로 반전 ( right_wing 과 똑같은 모양이기에 사각형, 기울기는 변형시키지않고 y축으로 반전시킨다. )\n",
        "  q1 = reflect_y(q1)\n",
        "  q2 = reflect_y(q2)\n",
        "  q3 = reflect_y(q3)\n",
        "  q4 = reflect_y(q4)\n",
        "\n",
        "  # polygon 그리기 \n",
        "  draw_rectangle(ax, q1, q2, q3, q4)"
      ],
      "metadata": {
        "id": "QTuJNMgSyRpG"
      },
      "execution_count": 197,
      "outputs": []
    },
    {
      "cell_type": "code",
      "execution_count": 198,
      "metadata": {
        "id": "hMI0xB0pDlnU"
      },
      "outputs": [],
      "source": [
        "# 2. tiefigher 그리기\n",
        "def draw_object(ax):\n",
        "  p1 = np.array([0, 0])\n",
        "  p2 = np.array([LEN, 0])\n",
        "  p3 = np.array([LEN, LEN])\n",
        "  p4 = np.array([0, LEN])\n",
        "\n",
        "  # 1. 중앙 조종석 그리기\n",
        "  draw_cockpit(ax, p1, p2, p3, p4)\n",
        "  # 2. 오른쪽 윗날개축 그리기 \n",
        "  draw_right_arm(ax, p1, p2, p3, p4)\n",
        "  # 3. 오른쪽 아래 날개축 그리기 \n",
        "  draw_right_arm2(ax, p1, p2, p3, p4)\n",
        "  # 4. 오른쪽 날개 그리기 \n",
        "  draw_right_wing(ax, p1, p2, p3, p4)\n",
        "  # 5. 왼쪽 윗날개축 그리기 \n",
        "  draw_left_arm(p1, p2, p3, p4)\n",
        "  # 6. 왼쪽 아래 날개축 그리기 \n",
        "  draw_left_arm2(p1, p2, p3, p4)\n",
        "  # 7. 왼쪽 날개 그리기 \n",
        "  draw_left_wing(p1, p2, p3, p4)"
      ]
    },
    {
      "cell_type": "markdown",
      "source": [
        "### 3. main"
      ],
      "metadata": {
        "id": "24hO1zQaHiFJ"
      }
    },
    {
      "cell_type": "code",
      "source": [
        "# 그림판 선언 및 크기 설정\n",
        "fig, ax = plt.subplots(figsize=(7,7))\n",
        "\n",
        "# 축 그리기\n",
        "draw_axis(ax)\n",
        "\n",
        "# 물체 그리기\n",
        "draw_object(ax)\n",
        "\n",
        "plt.show()"
      ],
      "metadata": {
        "colab": {
          "base_uri": "https://localhost:8080/",
          "height": 605
        },
        "id": "1Bdz-KxWLLHb",
        "outputId": "a470a3fd-399d-4b1b-9379-c6158cfc0288"
      },
      "execution_count": 199,
      "outputs": [
        {
          "output_type": "display_data",
          "data": {
            "text/plain": [
              "<Figure size 700x700 with 1 Axes>"
            ],
            "image/png": "[encoded data removed]"
          },
          "metadata": {}
        }
      ]
    }
  ]
}